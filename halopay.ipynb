{
 "cells": [
  {
   "cell_type": "code",
   "execution_count": 1,
   "id": "resistant-personality",
   "metadata": {},
   "outputs": [
    {
     "name": "stdout",
     "output_type": "stream",
     "text": [
      "Haloo, Saya Maulana Ferdiansyah. Salam kenal\n"
     ]
    }
   ],
   "source": [
    "#|=====================================|#\n",
    "#                                       #\n",
    "#                                       #\n",
    "#                  No.3                 #\n",
    "#             Program halo.py           #\n",
    "#        Nama : Maulana Ferdiansyah     #\n",
    "#        NIM  : 20/462145/PA/20117      #\n",
    "#                                       #\n",
    "#                                       #\n",
    "#|=====================================|#\n",
    "print(\"Haloo, Saya Maulana Ferdiansyah. Salam kenal\")"
   ]
  },
  {
   "cell_type": "code",
   "execution_count": null,
   "id": "d4e60cc8-1cb9-4557-b21c-beb2ba7644b6",
   "metadata": {},
   "outputs": [],
   "source": []
  }
 ],
 "metadata": {
  "kernelspec": {
   "display_name": "Python 3",
   "language": "python",
   "name": "python3"
  },
  "language_info": {
   "codemirror_mode": {
    "name": "ipython",
    "version": 3
   },
   "file_extension": ".py",
   "mimetype": "text/x-python",
   "name": "python",
   "nbconvert_exporter": "python",
   "pygments_lexer": "ipython3",
   "version": "3.8.5"
  }
 },
 "nbformat": 4,
 "nbformat_minor": 5
}
