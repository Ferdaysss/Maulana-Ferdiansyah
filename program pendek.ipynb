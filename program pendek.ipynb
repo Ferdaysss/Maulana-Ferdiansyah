{
 "cells": [
  {
   "cell_type": "code",
   "execution_count": 1,
   "id": "informational-former",
   "metadata": {},
   "outputs": [
    {
     "name": "stdout",
     "output_type": "stream",
     "text": [
      "Hello, Iam Maulana. Nice to meet u\n"
     ]
    }
   ],
   "source": [
    "print(\"Hello, Iam Maulana. Nice to meet u\")"
   ]
  },
  {
   "cell_type": "code",
   "execution_count": 2,
   "id": "informational-pillow",
   "metadata": {},
   "outputs": [
    {
     "name": "stdout",
     "output_type": "stream",
     "text": [
      "1\n",
      "2\n",
      "3\n",
      "4\n",
      "5\n"
     ]
    }
   ],
   "source": [
    "angka = [1,2,3,4,5]\n",
    "for nilai in angka:\n",
    "    print(nilai)"
   ]
  },
  {
   "cell_type": "code",
   "execution_count": null,
   "id": "d9533367-8e4f-472b-abed-4d38df8cc980",
   "metadata": {},
   "outputs": [],
   "source": []
  }
 ],
 "metadata": {
  "kernelspec": {
   "display_name": "Python 3",
   "language": "python",
   "name": "python3"
  },
  "language_info": {
   "codemirror_mode": {
    "name": "ipython",
    "version": 3
   },
   "file_extension": ".py",
   "mimetype": "text/x-python",
   "name": "python",
   "nbconvert_exporter": "python",
   "pygments_lexer": "ipython3",
   "version": "3.8.5"
  }
 },
 "nbformat": 4,
 "nbformat_minor": 5
}
