{
 "cells": [
  {
   "cell_type": "code",
   "execution_count": 1,
   "id": "informational-former",
   "metadata": {},
   "outputs": [
    {
     "name": "stdout",
     "output_type": "stream",
     "text": [
      "Hello, Iam Maulana. Nice to meet u\n"
     ]
    }
   ],
   "source": [
    "print(\"Hello, Iam Maulana. Nice to meet u\")"
   ]
  },
  {
   "cell_type": "code",
   "execution_count": null,
   "id": "informational-pillow",
   "metadata": {},
   "outputs": [],
   "source": [
    "angka = [1,2,3,4,5]\n",
    "for nilai in angka"
   ]
  }
 ],
 "metadata": {
  "kernelspec": {
   "display_name": "Python 3",
   "language": "python",
   "name": "python3"
  },
  "language_info": {
   "codemirror_mode": {
    "name": "ipython",
    "version": 3
   },
   "file_extension": ".py",
   "mimetype": "text/x-python",
   "name": "python",
   "nbconvert_exporter": "python",
   "pygments_lexer": "ipython3",
   "version": "3.8.5"
  }
 },
 "nbformat": 4,
 "nbformat_minor": 5
}
